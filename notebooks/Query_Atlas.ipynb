{
 "cells": [
  {
   "cell_type": "markdown",
   "metadata": {},
   "source": [
    "# Get Atlas Release Dataset"
   ]
  },
  {
   "cell_type": "markdown",
   "metadata": {},
   "source": [
    "## Imports"
   ]
  },
  {
   "cell_type": "code",
   "execution_count": 1,
   "metadata": {},
   "outputs": [],
   "source": [
    "import json\n",
    "import rdflib\n",
    "import getpass\n",
    "import pandas as pd\n",
    "from rdflib import RDF, RDFS, XSD, OWL, URIRef, BNode, SKOS\n",
    "import pprint\n",
    "from kgforge.core import KnowledgeGraphForge\n",
    "from kgforge.specializations.resources import Dataset"
   ]
  },
  {
   "cell_type": "markdown",
   "metadata": {},
   "source": [
    "## Setup\n",
    "Get an authentication token"
   ]
  },
  {
   "cell_type": "markdown",
   "metadata": {},
   "source": [
    "For now, the [Nexus web application](https://bbp.epfl.ch/nexus/web) can be used to get a token. We are looking for other simpler alternatives.\n",
    "\n",
    "- Step 1: From the opened web page, click on the login button on the right corner and follow the instructions.\n",
    "\n",
    "![login-ui](./login-ui.png)\n",
    "\n",
    "- Step 2: At the end you’ll see a token button on the right corner. Click on it to copy the token.\n",
    "\n",
    "![login-ui](./copy-token.png)\n"
   ]
  },
  {
   "cell_type": "code",
   "execution_count": 2,
   "metadata": {},
   "outputs": [],
   "source": [
    "TOKEN = \"\""
   ]
  },
  {
   "cell_type": "code",
   "execution_count": 3,
   "metadata": {},
   "outputs": [],
   "source": [
    "endpoint_staging = \"https://staging.nise.bbp.epfl.ch/nexus/v1\"\n",
    "endpoint_prod = \"https://bbp.epfl.ch/nexus/v1\"\n",
    "endpoint=endpoint_prod\n",
    "\n",
    "forge = KnowledgeGraphForge(\"prod-forge-nexus.yml\",\n",
    "                            token=TOKEN,\n",
    "                            endpoint=endpoint, \n",
    "                            bucket=\"bbp/atlas\",\n",
    "                            searchendpoints= {\"sparql\":{\"endpoint\": \"https://bbp.epfl.ch/neurosciencegraph/data/views/aggreg-sp/dataset\"}})"
   ]
  },
  {
   "cell_type": "code",
   "execution_count": 4,
   "metadata": {},
   "outputs": [
    {
     "name": "stdout",
     "output_type": "stream",
     "text": [
      "Requirement already satisfied: jsonpath_ng in /opt/miniconda3/envs/kgforge/lib/python3.7/site-packages (1.5.3)\n",
      "Requirement already satisfied: decorator in /opt/miniconda3/envs/kgforge/lib/python3.7/site-packages (from jsonpath_ng) (5.1.1)\n",
      "Requirement already satisfied: six in /opt/miniconda3/envs/kgforge/lib/python3.7/site-packages (from jsonpath_ng) (1.16.0)\n",
      "Requirement already satisfied: ply in /opt/miniconda3/envs/kgforge/lib/python3.7/site-packages (from jsonpath_ng) (3.11)\n"
     ]
    }
   ],
   "source": [
    "# Install dependencies\n",
    "!pip install jsonpath_ng"
   ]
  },
  {
   "cell_type": "markdown",
   "metadata": {},
   "source": [
    "## Set the atlas release id\n",
    "These atlas releases can be explored through the atlas web app:\n",
    "\n",
    "* dev: https://bluebrainatlas.kcpdev.bbp.epfl.ch/atlas\n",
    "* prod: https://bbp.epfl.ch/atlas\n"
   ]
  },
  {
   "cell_type": "code",
   "execution_count": 5,
   "metadata": {},
   "outputs": [],
   "source": [
    "\n",
    "Prod_BBP_Mouse_Brain_Atlas_Release = \"https://bbp.epfl.ch/neurosciencegraph/data/4906ab85-694f-469d-962f-c0174e901885\" \n",
    "Prod_METype_Composition_Density= \"https://bbp.epfl.ch/neurosciencegraph/data/celldensities/760b887c-759a-4ded-98e6-5d2712349eb2\"\n",
    "Staging_BBP_Mouse_Brain_Atlas_Release = \"https://bbp.epfl.ch/neurosciencegraph/data/brainatlasrelease/c96c71a8-4c0d-4bc1-8a1a-141d9ed6693d\" \n",
    "BRO = 'http://bbp.epfl.ch/neurosciencegraph/ontologies/core/brainregion'\n",
    "\n",
    "atlas_release_id = Prod_BBP_Mouse_Brain_Atlas_Release"
   ]
  },
  {
   "cell_type": "markdown",
   "metadata": {},
   "source": [
    "## Get the atlas release high level metadata"
   ]
  },
  {
   "cell_type": "code",
   "execution_count": 6,
   "metadata": {},
   "outputs": [],
   "source": [
    "atlas_release = forge.retrieve(atlas_release_id)"
   ]
  },
  {
   "cell_type": "code",
   "execution_count": 7,
   "metadata": {},
   "outputs": [
    {
     "name": "stdout",
     "output_type": "stream",
     "text": [
      "{\n",
      "    context: https://bbp.neuroshapes.org\n",
      "    id: https://bbp.epfl.ch/neurosciencegraph/data/4906ab85-694f-469d-962f-c0174e901885\n",
      "    type:\n",
      "    [\n",
      "        AtlasRelease\n",
      "        BrainAtlasRelease\n",
      "    ]\n",
      "    brainTemplateDataLayer:\n",
      "    {\n",
      "        id: https://bbp.epfl.ch/neurosciencegraph/data/cce06e96-85a4-403d-8b87-634a1554cdb9\n",
      "        type: BrainTemplateDataLayer\n",
      "    }\n",
      "    description: The official Atlas of the Blue Brain Project, derivated from AIBS Mouse CCF v3 (2017)\n",
      "    hemisphereVolume:\n",
      "    {\n",
      "        id: https://bbp.epfl.ch/neurosciencegraph/data/392ce23b-19de-471b-a5ef-c7744d7e450e\n",
      "        type:\n",
      "        [\n",
      "            VolumetricDataLayer\n",
      "            Dataset\n",
      "            HemisphereAnnotationDataLayer\n",
      "        ]\n",
      "    }\n",
      "    name: Blue Brain Atlas\n",
      "    parcellationOntology:\n",
      "    {\n",
      "        id: https://bbp.epfl.ch/neurosciencegraph/data/0518dd0b-cbc7-43ef-a75f-45631059c8c5\n",
      "        type: ParcellationOntology\n",
      "    }\n",
      "    parcellationVolume:\n",
      "    {\n",
      "        id: https://bbp.epfl.ch/neurosciencegraph/data/231f6e2e-6366-4ddc-94b6-35ab50c076c0\n",
      "        type: BrainParcellationDataLayer\n",
      "    }\n",
      "    releaseDate:\n",
      "    {\n",
      "        type: xsd:date\n",
      "        @value: 2022-10-18\n",
      "    }\n",
      "    spatialReferenceSystem:\n",
      "    {\n",
      "        id: https://bbp.epfl.ch/neurosciencegraph/data/allen_ccfv3_spatial_reference_system\n",
      "        type: AtlasSpatialReferenceSystem\n",
      "    }\n",
      "    subject:\n",
      "    {\n",
      "        type: Subject\n",
      "        species:\n",
      "        {\n",
      "            id: http://purl.obolibrary.org/obo/NCBITaxon_10090\n",
      "            label: Mus musculus\n",
      "        }\n",
      "    }\n",
      "}\n"
     ]
    }
   ],
   "source": [
    "print(atlas_release)"
   ]
  },
  {
   "cell_type": "code",
   "execution_count": 8,
   "metadata": {},
   "outputs": [
    {
     "data": {
      "text/plain": [
       "3"
      ]
     },
     "execution_count": 8,
     "metadata": {},
     "output_type": "execute_result"
    }
   ],
   "source": [
    "# Get the current revision of the Atlas release\n",
    "atlas_release._store_metadata[\"_rev\"]"
   ]
  },
  {
   "cell_type": "markdown",
   "metadata": {},
   "source": [
    "## Get the atlas hierarchy"
   ]
  },
  {
   "cell_type": "code",
   "execution_count": 9,
   "metadata": {},
   "outputs": [],
   "source": [
    "parcellation_ontology = forge.retrieve(atlas_release.parcellationOntology.id, cross_bucket=True)"
   ]
  },
  {
   "cell_type": "code",
   "execution_count": 10,
   "metadata": {},
   "outputs": [
    {
     "name": "stdout",
     "output_type": "stream",
     "text": [
      "{\n",
      "    context: https://bbp.neuroshapes.org\n",
      "    id: https://bbp.epfl.ch/neurosciencegraph/data/0518dd0b-cbc7-43ef-a75f-45631059c8c5\n",
      "    type:\n",
      "    [\n",
      "        Ontology\n",
      "        Entity\n",
      "        ParcellationOntology\n",
      "    ]\n",
      "    label: BBP Mouse Brain region ontology\n",
      "    distribution:\n",
      "    [\n",
      "        {\n",
      "            type: DataDownload\n",
      "            atLocation:\n",
      "            {\n",
      "                type: Location\n",
      "                location: file:///gpfs/bbp.cscs.ch/data/project/proj39/nexus/bbp/atlas/b/3/0/5/6/1/c/a/hierarchy_l23split.json\n",
      "                store:\n",
      "                {\n",
      "                    id: https://bbp.epfl.ch/neurosciencegraph/data/3806a8d9-0130-4535-bac6-3b1fecf855f5\n",
      "                    type: RemoteDiskStorage\n",
      "                    _rev: 1\n",
      "                }\n",
      "            }\n",
      "            contentSize:\n",
      "            {\n",
      "                unitCode: bytes\n",
      "                value: 3437057\n",
      "            }\n",
      "            contentUrl: https://bbp.epfl.ch/nexus/v1/files/bbp/atlas/b43a590b-c4b1-4956-84ad-6156eacb8841\n",
      "            digest:\n",
      "            {\n",
      "                algorithm: SHA-256\n",
      "                value: 36b4832580ad07b9a89912d205860212284bed1a406d741a3516d83b581a78d5\n",
      "            }\n",
      "            encodingFormat: application/json\n",
      "            name: hierarchy_l23split.json\n",
      "        }\n",
      "        {\n",
      "            type: DataDownload\n",
      "            atLocation:\n",
      "            {\n",
      "                type: Location\n",
      "                location: file:///gpfs/bbp.cscs.ch/data/project/proj39/nexus/bbp/atlas/2/d/3/7/d/0/3/a/mba_hierarchy_l23split.json\n",
      "                store:\n",
      "                {\n",
      "                    id: https://bbp.epfl.ch/neurosciencegraph/data/3806a8d9-0130-4535-bac6-3b1fecf855f5\n",
      "                    type: RemoteDiskStorage\n",
      "                    _rev: 1\n",
      "                }\n",
      "            }\n",
      "            contentSize:\n",
      "            {\n",
      "                unitCode: bytes\n",
      "                value: 3160065\n",
      "            }\n",
      "            contentUrl: https://bbp.epfl.ch/nexus/v1/files/bbp/atlas/28bfbe27-f790-4f41-bfd0-0bcbe485324f\n",
      "            digest:\n",
      "            {\n",
      "                algorithm: SHA-256\n",
      "                value: 6124e8dc0d900f75e32d05c8db5402b602c66bf4292ce7333764449d80b0fec5\n",
      "            }\n",
      "            encodingFormat: application/ld+json\n",
      "            name: mba_hierarchy_l23split.json\n",
      "        }\n",
      "    ]\n",
      "    name: BBP Mouse Brain region ontology\n",
      "    wasDerivedFrom:\n",
      "    {\n",
      "        id: http://ontology.neuinfo.org/NIF/ttl/generated/parcellation/mbaslim.ttl\n",
      "    }\n",
      "}\n"
     ]
    }
   ],
   "source": [
    "print(parcellation_ontology)"
   ]
  },
  {
   "cell_type": "code",
   "execution_count": 11,
   "metadata": {},
   "outputs": [],
   "source": [
    "parcellation_ontology_copy = Dataset.from_resource(forge, parcellation_ontology, store_metadata=True)\n",
    "parcellation_ontology_copy.distribution = [d for d in parcellation_ontology.distribution if d.encodingFormat == \"application/json\"]\n",
    "\n",
    "forge.download(parcellation_ontology_copy, \"distribution.contentUrl\", \".\", overwrite=True, cross_bucket=True)"
   ]
  },
  {
   "cell_type": "markdown",
   "metadata": {},
   "source": [
    "## Get a brain region metadata from it's name or accronym"
   ]
  },
  {
   "cell_type": "code",
   "execution_count": 12,
   "metadata": {},
   "outputs": [],
   "source": [
    "name_accronym = \"Medial septal nucleus\""
   ]
  },
  {
   "cell_type": "code",
   "execution_count": 13,
   "metadata": {},
   "outputs": [
    {
     "name": "stdout",
     "output_type": "stream",
     "text": [
      "{\n",
      "    id: http://api.brain-map.org/api/v2/data/Structure/564\n",
      "    type: Class\n",
      "    label: Medial septal nucleus\n",
      "    isDefinedBy: http://bbp.epfl.ch/neurosciencegraph/ontologies/core/brainregion\n",
      "    notation: MS\n",
      "    prefLabel: Medial septal nucleus\n",
      "    subClassOf: nsg:BrainRegion\n",
      "}\n"
     ]
    }
   ],
   "source": [
    "from kgforge.core.commons.strategies import ResolvingStrategy\n",
    "brain_region = forge.resolve(name_accronym, scope=\"ontology\", target=\"terms\", strategy=ResolvingStrategy.EXACT_CASEINSENSITIVE_MATCH)\n",
    "print(brain_region)"
   ]
  },
  {
   "cell_type": "code",
   "execution_count": 14,
   "metadata": {},
   "outputs": [
    {
     "data": {
      "text/plain": [
       "'MS'"
      ]
     },
     "execution_count": 14,
     "metadata": {},
     "output_type": "execute_result"
    }
   ],
   "source": [
    "# Get accronym\n",
    "brain_region.notation"
   ]
  },
  {
   "attachments": {},
   "cell_type": "markdown",
   "metadata": {},
   "source": [
    "## Get hierarchy relations directly from the ontology"
   ]
  },
  {
   "attachments": {},
   "cell_type": "markdown",
   "metadata": {},
   "source": [
    "Each brain region in the ontology has their children listed in the `hasPart` property, and all the leaf nodes as `hasLeafRegionPart`"
   ]
  },
  {
   "attachments": {},
   "cell_type": "markdown",
   "metadata": {},
   "source": [
    "#### Get all leaf nodes from a region"
   ]
  },
  {
   "cell_type": "code",
   "execution_count": 15,
   "metadata": {},
   "outputs": [],
   "source": [
    "target = 'FRP'\n",
    "query_leaf = \"\"\"\n",
    "SELECT DISTINCT ?id ?acronym ?leaf\n",
    "WHERE{\n",
    "    ?id subClassOf* BrainRegion ;\n",
    "    notation ?acronym ;\n",
    "    hasLeafRegionPart ?leaf.\n",
    "\"\"\"\n",
    "query_leaf += f\"FILTER (?acronym = \\\"{target}\\\") \\n\" + \"}\""
   ]
  },
  {
   "cell_type": "code",
   "execution_count": 16,
   "metadata": {},
   "outputs": [],
   "source": [
    "brs_leaves = forge.sparql(query_leaf, cross_bucket=True) "
   ]
  },
  {
   "cell_type": "code",
   "execution_count": 17,
   "metadata": {},
   "outputs": [
    {
     "data": {
      "text/html": [
       "<div>\n",
       "<style scoped>\n",
       "    .dataframe tbody tr th:only-of-type {\n",
       "        vertical-align: middle;\n",
       "    }\n",
       "\n",
       "    .dataframe tbody tr th {\n",
       "        vertical-align: top;\n",
       "    }\n",
       "\n",
       "    .dataframe thead th {\n",
       "        text-align: right;\n",
       "    }\n",
       "</style>\n",
       "<table border=\"1\" class=\"dataframe\">\n",
       "  <thead>\n",
       "    <tr style=\"text-align: right;\">\n",
       "      <th></th>\n",
       "      <th>id</th>\n",
       "      <th>acronym</th>\n",
       "      <th>leaf</th>\n",
       "    </tr>\n",
       "  </thead>\n",
       "  <tbody>\n",
       "    <tr>\n",
       "      <th>0</th>\n",
       "      <td>http://api.brain-map.org/api/v2/data/Structure...</td>\n",
       "      <td>FRP</td>\n",
       "      <td>http://api.brain-map.org/api/v2/data/Structure...</td>\n",
       "    </tr>\n",
       "    <tr>\n",
       "      <th>1</th>\n",
       "      <td>http://api.brain-map.org/api/v2/data/Structure...</td>\n",
       "      <td>FRP</td>\n",
       "      <td>http://api.brain-map.org/api/v2/data/Structure...</td>\n",
       "    </tr>\n",
       "    <tr>\n",
       "      <th>2</th>\n",
       "      <td>http://api.brain-map.org/api/v2/data/Structure...</td>\n",
       "      <td>FRP</td>\n",
       "      <td>http://api.brain-map.org/api/v2/data/Structure...</td>\n",
       "    </tr>\n",
       "    <tr>\n",
       "      <th>3</th>\n",
       "      <td>http://api.brain-map.org/api/v2/data/Structure...</td>\n",
       "      <td>FRP</td>\n",
       "      <td>http://api.brain-map.org/api/v2/data/Structure/68</td>\n",
       "    </tr>\n",
       "    <tr>\n",
       "      <th>4</th>\n",
       "      <td>http://api.brain-map.org/api/v2/data/Structure...</td>\n",
       "      <td>FRP</td>\n",
       "      <td>http://api.brain-map.org/api/v2/data/Structure...</td>\n",
       "    </tr>\n",
       "    <tr>\n",
       "      <th>5</th>\n",
       "      <td>http://api.brain-map.org/api/v2/data/Structure...</td>\n",
       "      <td>FRP</td>\n",
       "      <td>http://api.brain-map.org/api/v2/data/Structure...</td>\n",
       "    </tr>\n",
       "  </tbody>\n",
       "</table>\n",
       "</div>"
      ],
      "text/plain": [
       "                                                  id acronym  \\\n",
       "0  http://api.brain-map.org/api/v2/data/Structure...     FRP   \n",
       "1  http://api.brain-map.org/api/v2/data/Structure...     FRP   \n",
       "2  http://api.brain-map.org/api/v2/data/Structure...     FRP   \n",
       "3  http://api.brain-map.org/api/v2/data/Structure...     FRP   \n",
       "4  http://api.brain-map.org/api/v2/data/Structure...     FRP   \n",
       "5  http://api.brain-map.org/api/v2/data/Structure...     FRP   \n",
       "\n",
       "                                                leaf  \n",
       "0  http://api.brain-map.org/api/v2/data/Structure...  \n",
       "1  http://api.brain-map.org/api/v2/data/Structure...  \n",
       "2  http://api.brain-map.org/api/v2/data/Structure...  \n",
       "3  http://api.brain-map.org/api/v2/data/Structure/68  \n",
       "4  http://api.brain-map.org/api/v2/data/Structure...  \n",
       "5  http://api.brain-map.org/api/v2/data/Structure...  "
      ]
     },
     "execution_count": 17,
     "metadata": {},
     "output_type": "execute_result"
    }
   ],
   "source": [
    "forge.as_dataframe(brs_leaves)"
   ]
  },
  {
   "attachments": {},
   "cell_type": "markdown",
   "metadata": {},
   "source": [
    "### Return only leaves that are represented in the atlas annotation"
   ]
  },
  {
   "cell_type": "code",
   "execution_count": 18,
   "metadata": {},
   "outputs": [],
   "source": [
    "target = 'FRP'\n",
    "query_leaf2 = \"\"\"\n",
    "SELECT DISTINCT ?id ?acronym ?leaf\n",
    "WHERE{\n",
    "    ?id subClassOf* BrainRegion ;\n",
    "    notation ?acronym ;\n",
    "    hasLeafRegionPart ?leaf.\n",
    "    ?leaf representedInAnnotation true .\n",
    "\"\"\"\n",
    "query_leaf2 += f\"FILTER (?acronym = \\\"{target}\\\") \\n\" + \"}\""
   ]
  },
  {
   "cell_type": "code",
   "execution_count": 19,
   "metadata": {},
   "outputs": [],
   "source": [
    "brs_leaves2 = forge.sparql(query_leaf2, cross_bucket=True) "
   ]
  },
  {
   "cell_type": "code",
   "execution_count": 20,
   "metadata": {},
   "outputs": [
    {
     "data": {
      "text/html": [
       "<div>\n",
       "<style scoped>\n",
       "    .dataframe tbody tr th:only-of-type {\n",
       "        vertical-align: middle;\n",
       "    }\n",
       "\n",
       "    .dataframe tbody tr th {\n",
       "        vertical-align: top;\n",
       "    }\n",
       "\n",
       "    .dataframe thead th {\n",
       "        text-align: right;\n",
       "    }\n",
       "</style>\n",
       "<table border=\"1\" class=\"dataframe\">\n",
       "  <thead>\n",
       "    <tr style=\"text-align: right;\">\n",
       "      <th></th>\n",
       "      <th>id</th>\n",
       "      <th>acronym</th>\n",
       "      <th>leaf</th>\n",
       "    </tr>\n",
       "  </thead>\n",
       "  <tbody>\n",
       "    <tr>\n",
       "      <th>0</th>\n",
       "      <td>http://api.brain-map.org/api/v2/data/Structure...</td>\n",
       "      <td>FRP</td>\n",
       "      <td>http://api.brain-map.org/api/v2/data/Structure/68</td>\n",
       "    </tr>\n",
       "    <tr>\n",
       "      <th>1</th>\n",
       "      <td>http://api.brain-map.org/api/v2/data/Structure...</td>\n",
       "      <td>FRP</td>\n",
       "      <td>http://api.brain-map.org/api/v2/data/Structure...</td>\n",
       "    </tr>\n",
       "    <tr>\n",
       "      <th>2</th>\n",
       "      <td>http://api.brain-map.org/api/v2/data/Structure...</td>\n",
       "      <td>FRP</td>\n",
       "      <td>http://api.brain-map.org/api/v2/data/Structure...</td>\n",
       "    </tr>\n",
       "  </tbody>\n",
       "</table>\n",
       "</div>"
      ],
      "text/plain": [
       "                                                  id acronym  \\\n",
       "0  http://api.brain-map.org/api/v2/data/Structure...     FRP   \n",
       "1  http://api.brain-map.org/api/v2/data/Structure...     FRP   \n",
       "2  http://api.brain-map.org/api/v2/data/Structure...     FRP   \n",
       "\n",
       "                                                leaf  \n",
       "0  http://api.brain-map.org/api/v2/data/Structure/68  \n",
       "1  http://api.brain-map.org/api/v2/data/Structure...  \n",
       "2  http://api.brain-map.org/api/v2/data/Structure...  "
      ]
     },
     "execution_count": 20,
     "metadata": {},
     "output_type": "execute_result"
    }
   ],
   "source": [
    "forge.as_dataframe(brs_leaves2)"
   ]
  },
  {
   "attachments": {},
   "cell_type": "markdown",
   "metadata": {},
   "source": [
    "We can inspect the brain region \"FRP\""
   ]
  },
  {
   "cell_type": "code",
   "execution_count": 21,
   "metadata": {},
   "outputs": [],
   "source": [
    "FRP = forge.retrieve(brs_leaves[0].leaf, cross_bucket=True)"
   ]
  },
  {
   "cell_type": "code",
   "execution_count": 22,
   "metadata": {},
   "outputs": [
    {
     "name": "stdout",
     "output_type": "stream",
     "text": [
      "{\n",
      "    context: https://neuroshapes.org\n",
      "    id: http://api.brain-map.org/api/v2/data/Structure/526157192\n",
      "    type: Class\n",
      "    label: Frontal pole, layer 5\n",
      "    color_hex_triplet: 268F45\n",
      "    graph_order: 9\n",
      "    hasHierarchyView:\n",
      "    [\n",
      "        https://neuroshapes.org/BrainRegion\n",
      "    ]\n",
      "    hasLayerLocationPhenotype:\n",
      "    [\n",
      "        http://purl.obolibrary.org/obo/UBERON_0005394\n",
      "    ]\n",
      "    hemisphere_id: 3\n",
      "    identifier: 526157192\n",
      "    isDefinedBy: http://bbp.epfl.ch/neurosciencegraph/ontologies/core/brainregion\n",
      "    isLayerPartOf:\n",
      "    [\n",
      "        http://bbp.epfl.ch/neurosciencegraph/ontologies/core/brainregion/Isocortex_L5\n",
      "    ]\n",
      "    isPartOf:\n",
      "    [\n",
      "        http://api.brain-map.org/api/v2/data/Structure/184\n",
      "    ]\n",
      "    notation: FRP5\n",
      "    prefLabel: Frontal pole, layer 5\n",
      "    representedInAnnotation: false\n",
      "    st_level: 11\n",
      "    subClassOf:\n",
      "    [\n",
      "        https://neuroshapes.org/BrainRegion\n",
      "    ]\n",
      "}\n"
     ]
    }
   ],
   "source": [
    "print(FRP)"
   ]
  },
  {
   "attachments": {},
   "cell_type": "markdown",
   "metadata": {},
   "source": [
    "Similarly to the nodes, we can get the direct children of a brain region, present in the annotation, by querying using the `hasPart` property"
   ]
  },
  {
   "cell_type": "code",
   "execution_count": 23,
   "metadata": {},
   "outputs": [],
   "source": [
    "target = 'MOp'\n",
    "query_child = \"\"\"\n",
    "SELECT DISTINCT ?id ?acronym ?child\n",
    "WHERE{\n",
    "    ?id subClassOf* BrainRegion ;\n",
    "    notation ?acronym ;\n",
    "    hasPart ?child.\n",
    "    ?child representedInAnnotation true.\n",
    "\"\"\"\n",
    "query_child += f\"FILTER (?acronym = \\\"{target}\\\") \\n\" + \"}\""
   ]
  },
  {
   "cell_type": "code",
   "execution_count": 24,
   "metadata": {},
   "outputs": [],
   "source": [
    "brs_children = forge.sparql(query_child)"
   ]
  },
  {
   "cell_type": "code",
   "execution_count": 25,
   "metadata": {},
   "outputs": [
    {
     "data": {
      "text/html": [
       "<div>\n",
       "<style scoped>\n",
       "    .dataframe tbody tr th:only-of-type {\n",
       "        vertical-align: middle;\n",
       "    }\n",
       "\n",
       "    .dataframe tbody tr th {\n",
       "        vertical-align: top;\n",
       "    }\n",
       "\n",
       "    .dataframe thead th {\n",
       "        text-align: right;\n",
       "    }\n",
       "</style>\n",
       "<table border=\"1\" class=\"dataframe\">\n",
       "  <thead>\n",
       "    <tr style=\"text-align: right;\">\n",
       "      <th></th>\n",
       "      <th>id</th>\n",
       "      <th>acronym</th>\n",
       "      <th>child</th>\n",
       "    </tr>\n",
       "  </thead>\n",
       "  <tbody>\n",
       "    <tr>\n",
       "      <th>0</th>\n",
       "      <td>http://api.brain-map.org/api/v2/data/Structure...</td>\n",
       "      <td>MOp</td>\n",
       "      <td>http://api.brain-map.org/api/v2/data/Structure...</td>\n",
       "    </tr>\n",
       "    <tr>\n",
       "      <th>1</th>\n",
       "      <td>http://api.brain-map.org/api/v2/data/Structure...</td>\n",
       "      <td>MOp</td>\n",
       "      <td>http://api.brain-map.org/api/v2/data/Structure...</td>\n",
       "    </tr>\n",
       "    <tr>\n",
       "      <th>2</th>\n",
       "      <td>http://api.brain-map.org/api/v2/data/Structure...</td>\n",
       "      <td>MOp</td>\n",
       "      <td>http://api.brain-map.org/api/v2/data/Structure...</td>\n",
       "    </tr>\n",
       "    <tr>\n",
       "      <th>3</th>\n",
       "      <td>http://api.brain-map.org/api/v2/data/Structure...</td>\n",
       "      <td>MOp</td>\n",
       "      <td>http://api.brain-map.org/api/v2/data/Structure...</td>\n",
       "    </tr>\n",
       "    <tr>\n",
       "      <th>4</th>\n",
       "      <td>http://api.brain-map.org/api/v2/data/Structure...</td>\n",
       "      <td>MOp</td>\n",
       "      <td>http://api.brain-map.org/api/v2/data/Structure...</td>\n",
       "    </tr>\n",
       "  </tbody>\n",
       "</table>\n",
       "</div>"
      ],
      "text/plain": [
       "                                                  id acronym  \\\n",
       "0  http://api.brain-map.org/api/v2/data/Structure...     MOp   \n",
       "1  http://api.brain-map.org/api/v2/data/Structure...     MOp   \n",
       "2  http://api.brain-map.org/api/v2/data/Structure...     MOp   \n",
       "3  http://api.brain-map.org/api/v2/data/Structure...     MOp   \n",
       "4  http://api.brain-map.org/api/v2/data/Structure...     MOp   \n",
       "\n",
       "                                               child  \n",
       "0  http://api.brain-map.org/api/v2/data/Structure...  \n",
       "1  http://api.brain-map.org/api/v2/data/Structure...  \n",
       "2  http://api.brain-map.org/api/v2/data/Structure...  \n",
       "3  http://api.brain-map.org/api/v2/data/Structure...  \n",
       "4  http://api.brain-map.org/api/v2/data/Structure...  "
      ]
     },
     "execution_count": 25,
     "metadata": {},
     "output_type": "execute_result"
    }
   ],
   "source": [
    "forge.as_dataframe(brs_children)"
   ]
  },
  {
   "attachments": {},
   "cell_type": "markdown",
   "metadata": {},
   "source": [
    "If we know the exact brain region, instead of using sparql one can simply resolve teh brain region and get the children directly from the attribute `hasPart`"
   ]
  },
  {
   "cell_type": "code",
   "execution_count": 26,
   "metadata": {},
   "outputs": [],
   "source": [
    "mop = forge.resolve('MOp', scope='ontology', strategy='EXACT_MATCH')"
   ]
  },
  {
   "cell_type": "code",
   "execution_count": 27,
   "metadata": {},
   "outputs": [
    {
     "name": "stdout",
     "output_type": "stream",
     "text": [
      "{\n",
      "    id: http://api.brain-map.org/api/v2/data/Structure/985\n",
      "    type: Class\n",
      "    label: Primary motor area\n",
      "    isDefinedBy: http://bbp.epfl.ch/neurosciencegraph/ontologies/core/brainregion\n",
      "    notation: MOp\n",
      "    prefLabel: Primary motor area\n",
      "    subClassOf: nsg:BrainRegion\n",
      "}\n"
     ]
    }
   ],
   "source": [
    "print(mop)"
   ]
  },
  {
   "cell_type": "code",
   "execution_count": 28,
   "metadata": {},
   "outputs": [],
   "source": [
    "full_mop = forge.retrieve(mop.id, cross_bucket=True)"
   ]
  },
  {
   "cell_type": "markdown",
   "metadata": {},
   "source": [
    "## Get parcellation (annotation) volume"
   ]
  },
  {
   "cell_type": "code",
   "execution_count": 29,
   "metadata": {},
   "outputs": [],
   "source": [
    "parcellation_volume = forge.retrieve(atlas_release.parcellationVolume.id)"
   ]
  },
  {
   "cell_type": "code",
   "execution_count": 30,
   "metadata": {},
   "outputs": [
    {
     "name": "stdout",
     "output_type": "stream",
     "text": [
      "{\n",
      "    context: https://bbp.neuroshapes.org\n",
      "    id: https://bbp.epfl.ch/neurosciencegraph/data/231f6e2e-6366-4ddc-94b6-35ab50c076c0\n",
      "    type:\n",
      "    [\n",
      "        VolumetricDataLayer\n",
      "        BrainParcellationDataLayer\n",
      "        Dataset\n",
      "    ]\n",
      "    atlasRelease:\n",
      "    {\n",
      "        id: https://bbp.epfl.ch/neurosciencegraph/data/4906ab85-694f-469d-962f-c0174e901885\n",
      "    }\n",
      "    brainLocation:\n",
      "    {\n",
      "        atlasSpatialReferenceSystem:\n",
      "        {\n",
      "            id: https://bbp.epfl.ch/neurosciencegraph/data/allen_ccfv3_spatial_reference_system\n",
      "            type:\n",
      "            [\n",
      "                AtlasSpatialReferenceSystem\n",
      "                BrainAtlasSpatialReferenceSystem\n",
      "            ]\n",
      "        }\n",
      "        brainRegion:\n",
      "        {\n",
      "            id: http://api.brain-map.org/api/v2/data/Structure/997\n",
      "            label: root\n",
      "        }\n",
      "    }\n",
      "    bufferEncoding: gzip\n",
      "    componentEncoding: uint32\n",
      "    contribution:\n",
      "    {\n",
      "        type: Contribution\n",
      "        agent:\n",
      "        {\n",
      "            id: https://ror.org/02s376052\n",
      "            type:\n",
      "            [\n",
      "                Organization\n",
      "                Agent\n",
      "            ]\n",
      "        }\n",
      "    }\n",
      "    dataSampleModality: parcellationId\n",
      "    description: This raster volume contains the brain region annotation as IDs, including the separation of cortical layers 2 and 3.\n",
      "    dimension:\n",
      "    [\n",
      "        {\n",
      "            type: ComponentDimension\n",
      "            name: parcellationId\n",
      "            size: 1\n",
      "        }\n",
      "        {\n",
      "            type: SpaceDimension\n",
      "            size: 528\n",
      "            unitCode: voxel\n",
      "        }\n",
      "        {\n",
      "            type: SpaceDimension\n",
      "            size: 320\n",
      "            unitCode: voxel\n",
      "        }\n",
      "        {\n",
      "            type: SpaceDimension\n",
      "            size: 456\n",
      "            unitCode: voxel\n",
      "        }\n",
      "    ]\n",
      "    distribution:\n",
      "    {\n",
      "        type: DataDownload\n",
      "        atLocation:\n",
      "        {\n",
      "            type: Location\n",
      "            location: file:///gpfs/bbp.cscs.ch/data/project/proj39/nexus/bbp/atlas/5/e/b/4/e/1/b/8/annotation_ccfv3_l23split.nrrd\n",
      "            store:\n",
      "            {\n",
      "                id: https://bbp.epfl.ch/neurosciencegraph/data/2f120131-0bbc-4a7e-b84b-52f7f00eec9e\n",
      "                type: RemoteDiskStorage\n",
      "                _rev: 1\n",
      "            }\n",
      "        }\n",
      "        contentSize:\n",
      "        {\n",
      "            unitCode: bytes\n",
      "            value: 3822919\n",
      "        }\n",
      "        contentUrl: https://bbp.epfl.ch/nexus/v1/files/bbp/atlas/b78854df-b66e-439b-9b5e-dc3efb48a767\n",
      "        digest:\n",
      "        {\n",
      "            algorithm: SHA-256\n",
      "            value: 017ba4e62a26e070bc5302ec29e75f29a2cbbd564c06bac904fe16a0240cf679\n",
      "        }\n",
      "        encodingFormat: application/nrrd\n",
      "        name: annotation_ccfv3_l23split.nrrd\n",
      "    }\n",
      "    endianness: little\n",
      "    fileExtension: nrrd\n",
      "    isRegisteredIn:\n",
      "    {\n",
      "        id: https://bbp.epfl.ch/neurosciencegraph/data/allen_ccfv3_spatial_reference_system\n",
      "        type:\n",
      "        [\n",
      "            AtlasSpatialReferenceSystem\n",
      "            BrainAtlasSpatialReferenceSystem\n",
      "        ]\n",
      "    }\n",
      "    name: BBP Mouse Brain Annotation Volume, 25µm\n",
      "    resolution:\n",
      "    {\n",
      "        unitCode: µm\n",
      "        value: 25\n",
      "    }\n",
      "    sampleType: label\n",
      "    subject:\n",
      "    {\n",
      "        type: Subject\n",
      "        species:\n",
      "        {\n",
      "            id: http://purl.obolibrary.org/obo/NCBITaxon_10090\n",
      "            label: Mus musculus\n",
      "        }\n",
      "    }\n",
      "    worldMatrix:\n",
      "    [\n",
      "        25\n",
      "        0\n",
      "        0\n",
      "        0\n",
      "        0\n",
      "        25\n",
      "        0\n",
      "        0\n",
      "        0\n",
      "        0\n",
      "        25\n",
      "        0\n",
      "        0\n",
      "        0\n",
      "        0\n",
      "        1\n",
      "    ]\n",
      "}\n"
     ]
    }
   ],
   "source": [
    "print(parcellation_volume)"
   ]
  },
  {
   "cell_type": "code",
   "execution_count": 31,
   "metadata": {},
   "outputs": [],
   "source": [
    "forge.download(parcellation_volume, \"distribution.contentUrl\", \".\", overwrite=True)"
   ]
  },
  {
   "cell_type": "markdown",
   "metadata": {},
   "source": [
    "## Get orientation field and Direction vectors volumes"
   ]
  },
  {
   "cell_type": "code",
   "execution_count": 32,
   "metadata": {},
   "outputs": [
    {
     "name": "stdout",
     "output_type": "stream",
     "text": [
      "2 found\n"
     ]
    }
   ],
   "source": [
    "query = {\n",
    "          \"type\":\"CellOrientationField\", \n",
    "          \"atlasRelease\":{\"@id\":atlas_release_id},\n",
    "          \"brainLocation\":{\"brainRegion\":{\"id\":\"http://api.brain-map.org/api/v2/data/Structure/997\"}} # root brain region\n",
    "        }\n",
    "cell_orientation_field = forge.search(query)\n",
    "print(f\"{len(cell_orientation_field)} found\")"
   ]
  },
  {
   "cell_type": "code",
   "execution_count": 33,
   "metadata": {},
   "outputs": [
    {
     "name": "stdout",
     "output_type": "stream",
     "text": [
      "[Resource(_last_action=Action(error=None, message=None, operation='search', succeeded=True), _validated=False, _synchronized=False, _store_metadata={'id': 'https://bbp.epfl.ch/neurosciencegraph/data/a6b1f799-7b2c-470e-8668-3f15148965db', '_constrainedBy': 'https://neuroshapes.org/dash/volumetricdatalayer', '_createdAt': '2022-07-13T13:39:02.570Z', '_createdBy': 'https://bbp.epfl.ch/nexus/v1/realms/bbp/users/lurie', '_deprecated': False, '_incoming': 'https://bbp.epfl.ch/nexus/v1/resources/bbp/atlas/datashapes:volumetricdatalayer/a6b1f799-7b2c-470e-8668-3f15148965db/incoming', '_outgoing': 'https://bbp.epfl.ch/nexus/v1/resources/bbp/atlas/datashapes:volumetricdatalayer/a6b1f799-7b2c-470e-8668-3f15148965db/outgoing', '_project': 'https://bbp.epfl.ch/nexus/v1/projects/bbp/atlas', '_rev': 4, '_schemaProject': 'https://bbp.epfl.ch/nexus/v1/projects/neurosciencegraph/datamodels', '_self': 'https://bbp.epfl.ch/nexus/v1/resources/bbp/atlas/datashapes:volumetricdatalayer/a6b1f799-7b2c-470e-8668-3f15148965db', '_updatedAt': '2022-10-24T12:16:19.481Z', '_updatedBy': 'https://bbp.epfl.ch/nexus/v1/realms/bbp/users/akkaufma'}, context='https://bbp.neuroshapes.org', id='https://bbp.epfl.ch/neurosciencegraph/data/a6b1f799-7b2c-470e-8668-3f15148965db', type=['VolumetricDataLayer', 'CellOrientationField', 'Dataset'], _inner_sync=False, atlasRelease=Resource(_last_action=None, _validated=False, _synchronized=False, _store_metadata=None, id='https://bbp.epfl.ch/neurosciencegraph/data/4906ab85-694f-469d-962f-c0174e901885', _inner_sync=False), brainLocation=Resource(_last_action=None, _validated=False, _synchronized=False, _store_metadata=None, _inner_sync=False, atlasSpatialReferenceSystem=Resource(_last_action=None, _validated=False, _synchronized=False, _store_metadata=None, id='https://bbp.epfl.ch/neurosciencegraph/data/allen_ccfv3_spatial_reference_system', type=['AtlasSpatialReferenceSystem', 'BrainAtlasSpatialReferenceSystem'], _inner_sync=False), brainRegion=Resource(_last_action=None, _validated=False, _synchronized=False, _store_metadata=None, id='http://api.brain-map.org/api/v2/data/Structure/997', label='root', _inner_sync=False)), bufferEncoding='gzip', componentEncoding='float32', contribution=Resource(_last_action=None, _validated=False, _synchronized=False, _store_metadata=None, type='Contribution', _inner_sync=False, agent=Resource(_last_action=None, _validated=False, _synchronized=False, _store_metadata=None, id='https://ror.org/02s376052', type=['Organization', 'Agent'], _inner_sync=False)), dataSampleModality='vector3D', description='This raster volume contains the direction vectors as (x, y, z)', dimension=[Resource(_last_action=None, _validated=False, _synchronized=False, _store_metadata=None, type='ComponentDimension', _inner_sync=False, name='vector3D', size=3), Resource(_last_action=None, _validated=False, _synchronized=False, _store_metadata=None, type='SpaceDimension', _inner_sync=False, size=528, unitCode='voxel'), Resource(_last_action=None, _validated=False, _synchronized=False, _store_metadata=None, type='SpaceDimension', _inner_sync=False, size=320, unitCode='voxel'), Resource(_last_action=None, _validated=False, _synchronized=False, _store_metadata=None, type='SpaceDimension', _inner_sync=False, size=456, unitCode='voxel')], distribution=Resource(_last_action=None, _validated=False, _synchronized=False, _store_metadata=None, type='DataDownload', _inner_sync=False, atLocation=Resource(_last_action=None, _validated=False, _synchronized=False, _store_metadata=None, type='Location', _inner_sync=False, location='file:///gpfs/bbp.cscs.ch/data/project/proj39/nexus/bbp/atlas/f/5/8/5/f/5/f/7/direction_vectors_isocortex_ccfv3.nrrd', store=Resource(_last_action=None, _validated=False, _synchronized=False, _store_metadata=None, id='https://bbp.epfl.ch/neurosciencegraph/data/2f120131-0bbc-4a7e-b84b-52f7f00eec9e', type='RemoteDiskStorage', _inner_sync=False, _rev=1)), contentSize=Resource(_last_action=None, _validated=False, _synchronized=False, _store_metadata=None, _inner_sync=False, unitCode='bytes', value=86645449), contentUrl='https://bbp.epfl.ch/nexus/v1/files/bbp/atlas/08ad7afe-fb8d-4bef-9acc-c77b3af4f6a9', digest=Resource(_last_action=None, _validated=False, _synchronized=False, _store_metadata=None, _inner_sync=False, algorithm='SHA-256', value='162c192e880f03127e85c6c55a4bc3f10c9288d7a25edcf8048ac0b9910c26ed'), encodingFormat='application/nrrd', name='direction_vectors_isocortex_ccfv3.nrrd'), endianness='little', fileExtension='nrrd', isRegisteredIn=Resource(_last_action=None, _validated=False, _synchronized=False, _store_metadata=None, id='https://bbp.epfl.ch/neurosciencegraph/data/allen_ccfv3_spatial_reference_system', type=['AtlasSpatialReferenceSystem', 'BrainAtlasSpatialReferenceSystem'], _inner_sync=False), name='BBP Mouse Brain Direction Vector Volume, 25µm', resolution=Resource(_last_action=None, _validated=False, _synchronized=False, _store_metadata=None, _inner_sync=False, unitCode='µm', value=25), sampleType='label', subject=Resource(_last_action=None, _validated=False, _synchronized=False, _store_metadata=None, type='Subject', _inner_sync=False, species=Resource(_last_action=None, _validated=False, _synchronized=False, _store_metadata=None, id='http://purl.obolibrary.org/obo/NCBITaxon_10090', label='Mus musculus', _inner_sync=False)), worldMatrix=[25, 0, 0, 0, 0, 25, 0, 0, 0, 0, 25, 0, 0, 0, 0, 1]), Resource(_last_action=Action(error=None, message=None, operation='search', succeeded=True), _validated=False, _synchronized=False, _store_metadata={'id': 'https://bbp.epfl.ch/neurosciencegraph/data/a8591b0b-e03f-4566-a69c-829ca78f51bb', '_constrainedBy': 'https://neuroshapes.org/dash/volumetricdatalayer', '_createdAt': '2022-07-13T13:40:18.920Z', '_createdBy': 'https://bbp.epfl.ch/nexus/v1/realms/bbp/users/lurie', '_deprecated': False, '_incoming': 'https://bbp.epfl.ch/nexus/v1/resources/bbp/atlas/datashapes:volumetricdatalayer/a8591b0b-e03f-4566-a69c-829ca78f51bb/incoming', '_outgoing': 'https://bbp.epfl.ch/nexus/v1/resources/bbp/atlas/datashapes:volumetricdatalayer/a8591b0b-e03f-4566-a69c-829ca78f51bb/outgoing', '_project': 'https://bbp.epfl.ch/nexus/v1/projects/bbp/atlas', '_rev': 4, '_schemaProject': 'https://bbp.epfl.ch/nexus/v1/projects/neurosciencegraph/datamodels', '_self': 'https://bbp.epfl.ch/nexus/v1/resources/bbp/atlas/datashapes:volumetricdatalayer/a8591b0b-e03f-4566-a69c-829ca78f51bb', '_updatedAt': '2022-10-24T12:16:37.284Z', '_updatedBy': 'https://bbp.epfl.ch/nexus/v1/realms/bbp/users/akkaufma'}, context='https://bbp.neuroshapes.org', id='https://bbp.epfl.ch/neurosciencegraph/data/a8591b0b-e03f-4566-a69c-829ca78f51bb', type=['VolumetricDataLayer', 'CellOrientationField', 'Dataset'], _inner_sync=False, atlasRelease=Resource(_last_action=None, _validated=False, _synchronized=False, _store_metadata=None, id='https://bbp.epfl.ch/neurosciencegraph/data/4906ab85-694f-469d-962f-c0174e901885', _inner_sync=False), brainLocation=Resource(_last_action=None, _validated=False, _synchronized=False, _store_metadata=None, _inner_sync=False, atlasSpatialReferenceSystem=Resource(_last_action=None, _validated=False, _synchronized=False, _store_metadata=None, id='https://bbp.epfl.ch/neurosciencegraph/data/allen_ccfv3_spatial_reference_system', type=['AtlasSpatialReferenceSystem', 'BrainAtlasSpatialReferenceSystem'], _inner_sync=False), brainRegion=Resource(_last_action=None, _validated=False, _synchronized=False, _store_metadata=None, id='http://api.brain-map.org/api/v2/data/Structure/997', label='root', _inner_sync=False)), bufferEncoding='gzip', componentEncoding='float32', contribution=Resource(_last_action=None, _validated=False, _synchronized=False, _store_metadata=None, type='Contribution', _inner_sync=False, agent=Resource(_last_action=None, _validated=False, _synchronized=False, _store_metadata=None, id='https://ror.org/02s376052', type=['Organization', 'Agent'], _inner_sync=False)), dataSampleModality='quaternion', description='This raster volume contains orientation field as quaternions', dimension=[Resource(_last_action=None, _validated=False, _synchronized=False, _store_metadata=None, type='ComponentDimension', _inner_sync=False, name='quaternion', size=4), Resource(_last_action=None, _validated=False, _synchronized=False, _store_metadata=None, type='SpaceDimension', _inner_sync=False, size=528, unitCode='voxel'), Resource(_last_action=None, _validated=False, _synchronized=False, _store_metadata=None, type='SpaceDimension', _inner_sync=False, size=320, unitCode='voxel'), Resource(_last_action=None, _validated=False, _synchronized=False, _store_metadata=None, type='SpaceDimension', _inner_sync=False, size=456, unitCode='voxel')], distribution=Resource(_last_action=None, _validated=False, _synchronized=False, _store_metadata=None, type='DataDownload', _inner_sync=False, atLocation=Resource(_last_action=None, _validated=False, _synchronized=False, _store_metadata=None, type='Location', _inner_sync=False, location='file:///gpfs/bbp.cscs.ch/data/project/proj39/nexus/bbp/atlas/2/3/9/9/a/1/1/d/cell_orientations_ccfv3.nrrd', store=Resource(_last_action=None, _validated=False, _synchronized=False, _store_metadata=None, id='https://bbp.epfl.ch/neurosciencegraph/data/2f120131-0bbc-4a7e-b84b-52f7f00eec9e', type='RemoteDiskStorage', _inner_sync=False, _rev=1)), contentSize=Resource(_last_action=None, _validated=False, _synchronized=False, _store_metadata=None, _inner_sync=False, unitCode='bytes', value=89730395), contentUrl='https://bbp.epfl.ch/nexus/v1/files/bbp/atlas/525b6f36-0b4e-44cc-ae58-f11872dcd162', digest=Resource(_last_action=None, _validated=False, _synchronized=False, _store_metadata=None, _inner_sync=False, algorithm='SHA-256', value='1402598c6a69b4f519bcb3052e5288b2e808955d0f9000dea290479533e58b56'), encodingFormat='application/nrrd', name='cell_orientations_ccfv3.nrrd'), endianness='little', fileExtension='nrrd', isRegisteredIn=Resource(_last_action=None, _validated=False, _synchronized=False, _store_metadata=None, id='https://bbp.epfl.ch/neurosciencegraph/data/allen_ccfv3_spatial_reference_system', type=['AtlasSpatialReferenceSystem', 'BrainAtlasSpatialReferenceSystem'], _inner_sync=False), name='BBP Mouse Brain Orientation Field Volume, 25µm', resolution=Resource(_last_action=None, _validated=False, _synchronized=False, _store_metadata=None, _inner_sync=False, unitCode='µm', value=25), sampleType='label', subject=Resource(_last_action=None, _validated=False, _synchronized=False, _store_metadata=None, type='Subject', _inner_sync=False, species=Resource(_last_action=None, _validated=False, _synchronized=False, _store_metadata=None, id='http://purl.obolibrary.org/obo/NCBITaxon_10090', label='Mus musculus', _inner_sync=False)), worldMatrix=[25, 0, 0, 0, 0, 25, 0, 0, 0, 0, 25, 0, 0, 0, 0, 1])]\n"
     ]
    }
   ],
   "source": [
    "print(cell_orientation_field)"
   ]
  },
  {
   "cell_type": "code",
   "execution_count": 34,
   "metadata": {},
   "outputs": [],
   "source": [
    "forge.download(cell_orientation_field, \"distribution.contentUrl\", \".\", overwrite=True)"
   ]
  },
  {
   "cell_type": "markdown",
   "metadata": {},
   "source": [
    "## Get the released metype densities"
   ]
  },
  {
   "cell_type": "code",
   "execution_count": 35,
   "metadata": {},
   "outputs": [],
   "source": [
    "metype_density_release = forge.retrieve(id=Prod_METype_Composition_Density,\n",
    "                                     cross_bucket=True)"
   ]
  },
  {
   "cell_type": "code",
   "execution_count": 36,
   "metadata": {},
   "outputs": [],
   "source": [
    "forge.download(metype_density_release,path=\".\", follow=\"distribution.contentUrl\", cross_bucket=True, overwrite=True) # downloads a json file containing released metype densities along with their version"
   ]
  },
  {
   "cell_type": "code",
   "execution_count": 37,
   "metadata": {},
   "outputs": [],
   "source": [
    "with open(f\"./{metype_density_release.distribution.name}\", \"r\") as f:\n",
    "    metype_density_release_json= json.load(f)"
   ]
  },
  {
   "cell_type": "code",
   "execution_count": 38,
   "metadata": {},
   "outputs": [
    {
     "data": {
      "text/plain": [
       "245"
      ]
     },
     "execution_count": 38,
     "metadata": {},
     "output_type": "execute_result"
    }
   ],
   "source": [
    "from jsonpath_ng import jsonpath, parse\n",
    "\n",
    "jsonpath_expr = parse('hasPart[*].hasPart[*].hasPart[*].@id')\n",
    "metype_density_release_volume_ids = [(match.value, match.context.value[\"_rev\"]) for match in jsonpath_expr.find(metype_density_release_json)] # yields [(metype volume id, revision)]\n",
    "metype_density_release_volumes = [forge.retrieve(id=volume_id[0], version=volume_id[1], cross_bucket=True) for volume_id in metype_density_release_volume_ids] # metype density volumes\n",
    "\n",
    "len(metype_density_release_volumes)"
   ]
  },
  {
   "cell_type": "code",
   "execution_count": 39,
   "metadata": {},
   "outputs": [
    {
     "data": {
      "text/html": [
       "<div>\n",
       "<style scoped>\n",
       "    .dataframe tbody tr th:only-of-type {\n",
       "        vertical-align: middle;\n",
       "    }\n",
       "\n",
       "    .dataframe tbody tr th {\n",
       "        vertical-align: top;\n",
       "    }\n",
       "\n",
       "    .dataframe thead th {\n",
       "        text-align: right;\n",
       "    }\n",
       "</style>\n",
       "<table border=\"1\" class=\"dataframe\">\n",
       "  <thead>\n",
       "    <tr style=\"text-align: right;\">\n",
       "      <th></th>\n",
       "      <th>type</th>\n",
       "      <th>mtype</th>\n",
       "      <th>etype</th>\n",
       "      <th>id</th>\n",
       "      <th>annotation</th>\n",
       "      <th>brainLocation.brainRegion.id</th>\n",
       "      <th>brainLocation.brainRegion.label</th>\n",
       "      <th>distribution.atLocation.location</th>\n",
       "    </tr>\n",
       "  </thead>\n",
       "  <tbody>\n",
       "    <tr>\n",
       "      <th>0</th>\n",
       "      <td>[NeuronDensity, VolumetricDataLayer, CellDensi...</td>\n",
       "      <td>(L23_BP, http://uri.interlex.org/base/ilx_0383...</td>\n",
       "      <td>(dSTUT, http://uri.interlex.org/base/ilx_0738202)</td>\n",
       "      <td>https://bbp.epfl.ch/neurosciencegraph/data/88e...</td>\n",
       "      <td>[{'hasBody': {'id': 'http://uri.interlex.org/b...</td>\n",
       "      <td>http://api.brain-map.org/api/v2/data/Structure...</td>\n",
       "      <td>root</td>\n",
       "      <td>file:///gpfs/bbp.cscs.ch/data/project/proj39/n...</td>\n",
       "    </tr>\n",
       "    <tr>\n",
       "      <th>1</th>\n",
       "      <td>[NeuronDensity, VolumetricDataLayer, CellDensi...</td>\n",
       "      <td>(L23_BP, http://uri.interlex.org/base/ilx_0383...</td>\n",
       "      <td>(cNAC, http://uri.interlex.org/base/ilx_0738201)</td>\n",
       "      <td>https://bbp.epfl.ch/neurosciencegraph/data/9ab...</td>\n",
       "      <td>[{'hasBody': {'id': 'http://uri.interlex.org/b...</td>\n",
       "      <td>http://api.brain-map.org/api/v2/data/Structure...</td>\n",
       "      <td>root</td>\n",
       "      <td>file:///gpfs/bbp.cscs.ch/data/project/proj39/n...</td>\n",
       "    </tr>\n",
       "    <tr>\n",
       "      <th>2</th>\n",
       "      <td>[NeuronDensity, VolumetricDataLayer, CellDensi...</td>\n",
       "      <td>(L23_BP, http://uri.interlex.org/base/ilx_0383...</td>\n",
       "      <td>(bAC, http://uri.interlex.org/base/ilx_0738199)</td>\n",
       "      <td>https://bbp.epfl.ch/neurosciencegraph/data/2df...</td>\n",
       "      <td>[{'hasBody': {'id': 'http://uri.interlex.org/b...</td>\n",
       "      <td>http://api.brain-map.org/api/v2/data/Structure...</td>\n",
       "      <td>root</td>\n",
       "      <td>file:///gpfs/bbp.cscs.ch/data/project/proj39/n...</td>\n",
       "    </tr>\n",
       "    <tr>\n",
       "      <th>3</th>\n",
       "      <td>[NeuronDensity, VolumetricDataLayer, CellDensi...</td>\n",
       "      <td>(L23_BP, http://uri.interlex.org/base/ilx_0383...</td>\n",
       "      <td>(bIR, http://uri.interlex.org/base/ilx_0738206)</td>\n",
       "      <td>https://bbp.epfl.ch/neurosciencegraph/data/6e2...</td>\n",
       "      <td>[{'hasBody': {'id': 'http://uri.interlex.org/b...</td>\n",
       "      <td>http://api.brain-map.org/api/v2/data/Structure...</td>\n",
       "      <td>root</td>\n",
       "      <td>file:///gpfs/bbp.cscs.ch/data/project/proj39/n...</td>\n",
       "    </tr>\n",
       "    <tr>\n",
       "      <th>4</th>\n",
       "      <td>[NeuronDensity, VolumetricDataLayer, CellDensi...</td>\n",
       "      <td>(L23_BP, http://uri.interlex.org/base/ilx_0383...</td>\n",
       "      <td>(bNAC, http://uri.interlex.org/base/ilx_0738203)</td>\n",
       "      <td>https://bbp.epfl.ch/neurosciencegraph/data/a40...</td>\n",
       "      <td>[{'hasBody': {'id': 'http://uri.interlex.org/b...</td>\n",
       "      <td>http://api.brain-map.org/api/v2/data/Structure...</td>\n",
       "      <td>root</td>\n",
       "      <td>file:///gpfs/bbp.cscs.ch/data/project/proj39/n...</td>\n",
       "    </tr>\n",
       "    <tr>\n",
       "      <th>...</th>\n",
       "      <td>...</td>\n",
       "      <td>...</td>\n",
       "      <td>...</td>\n",
       "      <td>...</td>\n",
       "      <td>...</td>\n",
       "      <td>...</td>\n",
       "      <td>...</td>\n",
       "      <td>...</td>\n",
       "    </tr>\n",
       "    <tr>\n",
       "      <th>95</th>\n",
       "      <td>[NeuronDensity, VolumetricDataLayer, CellDensi...</td>\n",
       "      <td>(L4_LBC, http://uri.interlex.org/base/ilx_0383...</td>\n",
       "      <td>(bAC, http://uri.interlex.org/base/ilx_0738199)</td>\n",
       "      <td>https://bbp.epfl.ch/neurosciencegraph/data/104...</td>\n",
       "      <td>[{'hasBody': {'id': 'http://uri.interlex.org/b...</td>\n",
       "      <td>http://api.brain-map.org/api/v2/data/Structure...</td>\n",
       "      <td>root</td>\n",
       "      <td>file:///gpfs/bbp.cscs.ch/data/project/proj39/n...</td>\n",
       "    </tr>\n",
       "    <tr>\n",
       "      <th>96</th>\n",
       "      <td>[NeuronDensity, VolumetricDataLayer, CellDensi...</td>\n",
       "      <td>(L4_LBC, http://uri.interlex.org/base/ilx_0383...</td>\n",
       "      <td>(cNAC, http://uri.interlex.org/base/ilx_0738201)</td>\n",
       "      <td>https://bbp.epfl.ch/neurosciencegraph/data/699...</td>\n",
       "      <td>[{'hasBody': {'id': 'http://uri.interlex.org/b...</td>\n",
       "      <td>http://api.brain-map.org/api/v2/data/Structure...</td>\n",
       "      <td>root</td>\n",
       "      <td>file:///gpfs/bbp.cscs.ch/data/project/proj39/n...</td>\n",
       "    </tr>\n",
       "    <tr>\n",
       "      <th>97</th>\n",
       "      <td>[NeuronDensity, VolumetricDataLayer, CellDensi...</td>\n",
       "      <td>(L4_LBC, http://uri.interlex.org/base/ilx_0383...</td>\n",
       "      <td>(cAC, http://uri.interlex.org/base/ilx_0738197)</td>\n",
       "      <td>https://bbp.epfl.ch/neurosciencegraph/data/045...</td>\n",
       "      <td>[{'hasBody': {'id': 'http://uri.interlex.org/b...</td>\n",
       "      <td>http://api.brain-map.org/api/v2/data/Structure...</td>\n",
       "      <td>root</td>\n",
       "      <td>file:///gpfs/bbp.cscs.ch/data/project/proj39/n...</td>\n",
       "    </tr>\n",
       "    <tr>\n",
       "      <th>98</th>\n",
       "      <td>[NeuronDensity, VolumetricDataLayer, CellDensi...</td>\n",
       "      <td>(L4_LBC, http://uri.interlex.org/base/ilx_0383...</td>\n",
       "      <td>(bSTUT, http://uri.interlex.org/base/ilx_0738200)</td>\n",
       "      <td>https://bbp.epfl.ch/neurosciencegraph/data/0cb...</td>\n",
       "      <td>[{'hasBody': {'id': 'http://uri.interlex.org/b...</td>\n",
       "      <td>http://api.brain-map.org/api/v2/data/Structure...</td>\n",
       "      <td>root</td>\n",
       "      <td>file:///gpfs/bbp.cscs.ch/data/project/proj39/n...</td>\n",
       "    </tr>\n",
       "    <tr>\n",
       "      <th>99</th>\n",
       "      <td>[NeuronDensity, VolumetricDataLayer, CellDensi...</td>\n",
       "      <td>(L6_MC, http://uri.interlex.org/base/ilx_0381374)</td>\n",
       "      <td>(bNAC, http://uri.interlex.org/base/ilx_0738203)</td>\n",
       "      <td>https://bbp.epfl.ch/neurosciencegraph/data/46c...</td>\n",
       "      <td>[{'hasBody': {'id': 'http://uri.interlex.org/b...</td>\n",
       "      <td>http://api.brain-map.org/api/v2/data/Structure...</td>\n",
       "      <td>root</td>\n",
       "      <td>file:///gpfs/bbp.cscs.ch/data/project/proj39/n...</td>\n",
       "    </tr>\n",
       "  </tbody>\n",
       "</table>\n",
       "<p>100 rows × 8 columns</p>\n",
       "</div>"
      ],
      "text/plain": [
       "                                                 type  \\\n",
       "0   [NeuronDensity, VolumetricDataLayer, CellDensi...   \n",
       "1   [NeuronDensity, VolumetricDataLayer, CellDensi...   \n",
       "2   [NeuronDensity, VolumetricDataLayer, CellDensi...   \n",
       "3   [NeuronDensity, VolumetricDataLayer, CellDensi...   \n",
       "4   [NeuronDensity, VolumetricDataLayer, CellDensi...   \n",
       "..                                                ...   \n",
       "95  [NeuronDensity, VolumetricDataLayer, CellDensi...   \n",
       "96  [NeuronDensity, VolumetricDataLayer, CellDensi...   \n",
       "97  [NeuronDensity, VolumetricDataLayer, CellDensi...   \n",
       "98  [NeuronDensity, VolumetricDataLayer, CellDensi...   \n",
       "99  [NeuronDensity, VolumetricDataLayer, CellDensi...   \n",
       "\n",
       "                                                mtype  \\\n",
       "0   (L23_BP, http://uri.interlex.org/base/ilx_0383...   \n",
       "1   (L23_BP, http://uri.interlex.org/base/ilx_0383...   \n",
       "2   (L23_BP, http://uri.interlex.org/base/ilx_0383...   \n",
       "3   (L23_BP, http://uri.interlex.org/base/ilx_0383...   \n",
       "4   (L23_BP, http://uri.interlex.org/base/ilx_0383...   \n",
       "..                                                ...   \n",
       "95  (L4_LBC, http://uri.interlex.org/base/ilx_0383...   \n",
       "96  (L4_LBC, http://uri.interlex.org/base/ilx_0383...   \n",
       "97  (L4_LBC, http://uri.interlex.org/base/ilx_0383...   \n",
       "98  (L4_LBC, http://uri.interlex.org/base/ilx_0383...   \n",
       "99  (L6_MC, http://uri.interlex.org/base/ilx_0381374)   \n",
       "\n",
       "                                                etype  \\\n",
       "0   (dSTUT, http://uri.interlex.org/base/ilx_0738202)   \n",
       "1    (cNAC, http://uri.interlex.org/base/ilx_0738201)   \n",
       "2     (bAC, http://uri.interlex.org/base/ilx_0738199)   \n",
       "3     (bIR, http://uri.interlex.org/base/ilx_0738206)   \n",
       "4    (bNAC, http://uri.interlex.org/base/ilx_0738203)   \n",
       "..                                                ...   \n",
       "95    (bAC, http://uri.interlex.org/base/ilx_0738199)   \n",
       "96   (cNAC, http://uri.interlex.org/base/ilx_0738201)   \n",
       "97    (cAC, http://uri.interlex.org/base/ilx_0738197)   \n",
       "98  (bSTUT, http://uri.interlex.org/base/ilx_0738200)   \n",
       "99   (bNAC, http://uri.interlex.org/base/ilx_0738203)   \n",
       "\n",
       "                                                   id  \\\n",
       "0   https://bbp.epfl.ch/neurosciencegraph/data/88e...   \n",
       "1   https://bbp.epfl.ch/neurosciencegraph/data/9ab...   \n",
       "2   https://bbp.epfl.ch/neurosciencegraph/data/2df...   \n",
       "3   https://bbp.epfl.ch/neurosciencegraph/data/6e2...   \n",
       "4   https://bbp.epfl.ch/neurosciencegraph/data/a40...   \n",
       "..                                                ...   \n",
       "95  https://bbp.epfl.ch/neurosciencegraph/data/104...   \n",
       "96  https://bbp.epfl.ch/neurosciencegraph/data/699...   \n",
       "97  https://bbp.epfl.ch/neurosciencegraph/data/045...   \n",
       "98  https://bbp.epfl.ch/neurosciencegraph/data/0cb...   \n",
       "99  https://bbp.epfl.ch/neurosciencegraph/data/46c...   \n",
       "\n",
       "                                           annotation  \\\n",
       "0   [{'hasBody': {'id': 'http://uri.interlex.org/b...   \n",
       "1   [{'hasBody': {'id': 'http://uri.interlex.org/b...   \n",
       "2   [{'hasBody': {'id': 'http://uri.interlex.org/b...   \n",
       "3   [{'hasBody': {'id': 'http://uri.interlex.org/b...   \n",
       "4   [{'hasBody': {'id': 'http://uri.interlex.org/b...   \n",
       "..                                                ...   \n",
       "95  [{'hasBody': {'id': 'http://uri.interlex.org/b...   \n",
       "96  [{'hasBody': {'id': 'http://uri.interlex.org/b...   \n",
       "97  [{'hasBody': {'id': 'http://uri.interlex.org/b...   \n",
       "98  [{'hasBody': {'id': 'http://uri.interlex.org/b...   \n",
       "99  [{'hasBody': {'id': 'http://uri.interlex.org/b...   \n",
       "\n",
       "                         brainLocation.brainRegion.id  \\\n",
       "0   http://api.brain-map.org/api/v2/data/Structure...   \n",
       "1   http://api.brain-map.org/api/v2/data/Structure...   \n",
       "2   http://api.brain-map.org/api/v2/data/Structure...   \n",
       "3   http://api.brain-map.org/api/v2/data/Structure...   \n",
       "4   http://api.brain-map.org/api/v2/data/Structure...   \n",
       "..                                                ...   \n",
       "95  http://api.brain-map.org/api/v2/data/Structure...   \n",
       "96  http://api.brain-map.org/api/v2/data/Structure...   \n",
       "97  http://api.brain-map.org/api/v2/data/Structure...   \n",
       "98  http://api.brain-map.org/api/v2/data/Structure...   \n",
       "99  http://api.brain-map.org/api/v2/data/Structure...   \n",
       "\n",
       "   brainLocation.brainRegion.label  \\\n",
       "0                             root   \n",
       "1                             root   \n",
       "2                             root   \n",
       "3                             root   \n",
       "4                             root   \n",
       "..                             ...   \n",
       "95                            root   \n",
       "96                            root   \n",
       "97                            root   \n",
       "98                            root   \n",
       "99                            root   \n",
       "\n",
       "                     distribution.atLocation.location  \n",
       "0   file:///gpfs/bbp.cscs.ch/data/project/proj39/n...  \n",
       "1   file:///gpfs/bbp.cscs.ch/data/project/proj39/n...  \n",
       "2   file:///gpfs/bbp.cscs.ch/data/project/proj39/n...  \n",
       "3   file:///gpfs/bbp.cscs.ch/data/project/proj39/n...  \n",
       "4   file:///gpfs/bbp.cscs.ch/data/project/proj39/n...  \n",
       "..                                                ...  \n",
       "95  file:///gpfs/bbp.cscs.ch/data/project/proj39/n...  \n",
       "96  file:///gpfs/bbp.cscs.ch/data/project/proj39/n...  \n",
       "97  file:///gpfs/bbp.cscs.ch/data/project/proj39/n...  \n",
       "98  file:///gpfs/bbp.cscs.ch/data/project/proj39/n...  \n",
       "99  file:///gpfs/bbp.cscs.ch/data/project/proj39/n...  \n",
       "\n",
       "[100 rows x 8 columns]"
      ]
     },
     "execution_count": 39,
     "metadata": {},
     "output_type": "execute_result"
    }
   ],
   "source": [
    "# Collect metadata as pandas dataframe \n",
    "reshaped_resources = forge.reshape(metype_density_release_volumes, keep=[\"id\",\"type\", \"annotation.hasBody.id\", \"annotation.hasBody.label\",\n",
    "                     \"brainLocation.brainRegion.id\", \"brainLocation.brainRegion.label\", \"distribution.atLocation.location\"])\n",
    "df = forge.as_dataframe(reshaped_resources, nesting=\".\")\n",
    "\n",
    "df[\"mtype\"] = df.apply(lambda row: (row.annotation[0][\"hasBody\"][\"label\"],row.annotation[0][\"hasBody\"][\"id\"]) , axis=1) \n",
    "df[\"etype\"] = df.apply(lambda row: (row.annotation[1][\"hasBody\"][\"label\"],row.annotation[1][\"hasBody\"][\"id\"]) , axis=1) \n",
    "type_column = df.pop('type')\n",
    "mtype_column = df.pop('mtype')\n",
    "etype_column = df.pop('etype')\n",
    "\n",
    "df.insert(0, 'type', type_column)\n",
    "df.insert(1, 'mtype', mtype_column)\n",
    "df.insert(2, 'etype', etype_column)\n",
    "df.drop(columns=\"annotation\")\n",
    "\n",
    "df.head(100)"
   ]
  },
  {
   "cell_type": "code",
   "execution_count": 40,
   "metadata": {},
   "outputs": [],
   "source": [
    "forge.download(metype_density_release_volumes, path=\"./test\", follow=\"distribution.contentUrl\", cross_bucket=True, overwrite=True)"
   ]
  }
 ],
 "metadata": {
  "kernelspec": {
   "display_name": "kgforge",
   "language": "python",
   "name": "python3"
  },
  "language_info": {
   "codemirror_mode": {
    "name": "ipython",
    "version": 3
   },
   "file_extension": ".py",
   "mimetype": "text/x-python",
   "name": "python",
   "nbconvert_exporter": "python",
   "pygments_lexer": "ipython3",
   "version": "3.7.13"
  }
 },
 "nbformat": 4,
 "nbformat_minor": 4
}
